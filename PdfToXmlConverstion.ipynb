{
  "nbformat": 4,
  "nbformat_minor": 0,
  "metadata": {
    "colab": {
      "provenance": [],
      "authorship_tag": "ABX9TyMm2Xmwuc0JYqJy5Zgdce2P",
      "include_colab_link": true
    },
    "kernelspec": {
      "name": "python3",
      "display_name": "Python 3"
    },
    "language_info": {
      "name": "python"
    }
  },
  "cells": [
    {
      "cell_type": "markdown",
      "metadata": {
        "id": "view-in-github",
        "colab_type": "text"
      },
      "source": [
        "<a href=\"https://colab.research.google.com/github/IyyappanPalanivel/XmlAutomation/blob/main/PdfToXmlConverstion.ipynb\" target=\"_parent\"><img src=\"https://colab.research.google.com/assets/colab-badge.svg\" alt=\"Open In Colab\"/></a>"
      ]
    },
    {
      "cell_type": "code",
      "source": [
        "!pip install pdfplumber\n",
        "!pip install lxml"
      ],
      "metadata": {
        "colab": {
          "base_uri": "https://localhost:8080/"
        },
        "id": "dmcjjKGxRm6k",
        "outputId": "81fb5dd2-4cf9-4d84-e546-d1405657b8c1"
      },
      "execution_count": null,
      "outputs": [
        {
          "output_type": "stream",
          "name": "stdout",
          "text": [
            "Requirement already satisfied: pdfplumber in /usr/local/lib/python3.10/dist-packages (0.11.0)\n",
            "Requirement already satisfied: pdfminer.six==20231228 in /usr/local/lib/python3.10/dist-packages (from pdfplumber) (20231228)\n",
            "Requirement already satisfied: Pillow>=9.1 in /usr/local/lib/python3.10/dist-packages (from pdfplumber) (9.4.0)\n",
            "Requirement already satisfied: pypdfium2>=4.18.0 in /usr/local/lib/python3.10/dist-packages (from pdfplumber) (4.29.0)\n",
            "Requirement already satisfied: charset-normalizer>=2.0.0 in /usr/local/lib/python3.10/dist-packages (from pdfminer.six==20231228->pdfplumber) (3.3.2)\n",
            "Requirement already satisfied: cryptography>=36.0.0 in /usr/local/lib/python3.10/dist-packages (from pdfminer.six==20231228->pdfplumber) (42.0.5)\n",
            "Requirement already satisfied: cffi>=1.12 in /usr/local/lib/python3.10/dist-packages (from cryptography>=36.0.0->pdfminer.six==20231228->pdfplumber) (1.16.0)\n",
            "Requirement already satisfied: pycparser in /usr/local/lib/python3.10/dist-packages (from cffi>=1.12->cryptography>=36.0.0->pdfminer.six==20231228->pdfplumber) (2.22)\n",
            "Requirement already satisfied: lxml in /usr/local/lib/python3.10/dist-packages (4.9.4)\n"
          ]
        }
      ]
    },
    {
      "cell_type": "code",
      "execution_count": 21,
      "metadata": {
        "colab": {
          "base_uri": "https://localhost:8080/"
        },
        "id": "C3zjUq5jQCqK",
        "outputId": "242bf973-f57c-4aab-adff-e4b90ace4539"
      },
      "outputs": [
        {
          "output_type": "stream",
          "name": "stdout",
          "text": [
            "Contains ISSN. Skipping conversion.\n"
          ]
        }
      ],
      "source": [
        "import pdfplumber\n",
        "import re\n",
        "import lxml.etree as ET\n",
        "\n",
        "# Define keywords and their corresponding XML tags\n",
        "keyword_mapping = {\n",
        "    \"country\": \"country\",\n",
        "    \"author\": \"author\",\n",
        "    \"references\": \"references\"\n",
        "    # Add more mappings as needed\n",
        "}\n",
        "\n",
        "def contains_issn(text):\n",
        "    return \"issn\" in text.lower()  # Convert text to lowercase for case insensitivity\n",
        "\n",
        "def extract_text_from_pdf(pdf_path):\n",
        "    with pdfplumber.open(pdf_path) as pdf:\n",
        "        text = \"\"\n",
        "        for page in pdf.pages:\n",
        "            text += page.extract_text()\n",
        "    return text\n",
        "\n",
        "def identify_keywords(text):\n",
        "    identified_keywords = []\n",
        "    for keyword, tag in keyword_mapping.items():\n",
        "        if re.search(keyword, text, re.IGNORECASE):\n",
        "            identified_keywords.append((keyword, tag))\n",
        "    return identified_keywords\n",
        "\n",
        "def generate_xml(identified_keywords):\n",
        "    root = ET.Element(\"document\")\n",
        "    for keyword, tag in identified_keywords:\n",
        "        element = ET.SubElement(root, tag)\n",
        "        element.text = keyword\n",
        "    return ET.tostring(root, pretty_print=True)\n",
        "\n",
        "def save_xml(xml_content, output_path):\n",
        "    with open(output_path, \"wb\") as f:\n",
        "        f.write(xml_content)\n",
        "\n",
        "def convert_pdf_to_xml(pdf_path, output_path):\n",
        "    text = extract_text_from_pdf(pdf_path)\n",
        "    if not contains_issn(text):\n",
        "        print(\"Does not contain ISSN. Proceeding with conversion.\")\n",
        "        identified_keywords = identify_keywords(text)\n",
        "        xml_content = generate_xml(identified_keywords)\n",
        "        save_xml(xml_content, output_path)\n",
        "        print(\"XML conversion complete.\")\n",
        "    else:\n",
        "        print(\"Contains ISSN. Skipping conversion.\")\n",
        "\n",
        "# Example usage\n",
        "pdf_path = \"issn.pdf\"\n",
        "output_path = \"output.xml\"\n",
        "convert_pdf_to_xml(pdf_path, output_path)\n"
      ]
    }
  ]
}